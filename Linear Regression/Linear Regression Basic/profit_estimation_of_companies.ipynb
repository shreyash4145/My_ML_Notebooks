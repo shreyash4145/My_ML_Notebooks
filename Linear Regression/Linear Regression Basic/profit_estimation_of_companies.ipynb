{
 "cells": [
  {
   "cell_type": "markdown",
   "metadata": {},
   "source": [
    "# profit estimation of companies with linear regression"
   ]
  },
  {
   "cell_type": "code",
   "execution_count": 16,
   "metadata": {},
   "outputs": [],
   "source": [
    "#importing libraries\n",
    "import numpy as np\n",
    "import matplotlib.pyplot as plt\n",
    "import seaborn as sns\n",
    "import pandas as pd\n",
    "%matplotlib inline"
   ]
  },
  {
   "cell_type": "markdown",
   "metadata": {},
   "source": [
    "### loading the dataset"
   ]
  },
  {
   "cell_type": "code",
   "execution_count": 17,
   "metadata": {},
   "outputs": [
    {
     "data": {
      "text/html": [
       "<div>\n",
       "<style scoped>\n",
       "    .dataframe tbody tr th:only-of-type {\n",
       "        vertical-align: middle;\n",
       "    }\n",
       "\n",
       "    .dataframe tbody tr th {\n",
       "        vertical-align: top;\n",
       "    }\n",
       "\n",
       "    .dataframe thead th {\n",
       "        text-align: right;\n",
       "    }\n",
       "</style>\n",
       "<table border=\"1\" class=\"dataframe\">\n",
       "  <thead>\n",
       "    <tr style=\"text-align: right;\">\n",
       "      <th></th>\n",
       "      <th>R&amp;D Spend</th>\n",
       "      <th>Administration</th>\n",
       "      <th>Marketing Spend</th>\n",
       "      <th>State</th>\n",
       "      <th>Profit</th>\n",
       "    </tr>\n",
       "  </thead>\n",
       "  <tbody>\n",
       "    <tr>\n",
       "      <th>0</th>\n",
       "      <td>165349.20</td>\n",
       "      <td>136897.80</td>\n",
       "      <td>471784.10</td>\n",
       "      <td>New York</td>\n",
       "      <td>192261.83</td>\n",
       "    </tr>\n",
       "    <tr>\n",
       "      <th>1</th>\n",
       "      <td>162597.70</td>\n",
       "      <td>151377.59</td>\n",
       "      <td>443898.53</td>\n",
       "      <td>California</td>\n",
       "      <td>191792.06</td>\n",
       "    </tr>\n",
       "    <tr>\n",
       "      <th>2</th>\n",
       "      <td>153441.51</td>\n",
       "      <td>101145.55</td>\n",
       "      <td>407934.54</td>\n",
       "      <td>Florida</td>\n",
       "      <td>191050.39</td>\n",
       "    </tr>\n",
       "    <tr>\n",
       "      <th>3</th>\n",
       "      <td>144372.41</td>\n",
       "      <td>118671.85</td>\n",
       "      <td>383199.62</td>\n",
       "      <td>New York</td>\n",
       "      <td>182901.99</td>\n",
       "    </tr>\n",
       "    <tr>\n",
       "      <th>4</th>\n",
       "      <td>142107.34</td>\n",
       "      <td>91391.77</td>\n",
       "      <td>366168.42</td>\n",
       "      <td>Florida</td>\n",
       "      <td>166187.94</td>\n",
       "    </tr>\n",
       "  </tbody>\n",
       "</table>\n",
       "</div>"
      ],
      "text/plain": [
       "   R&D Spend  Administration  Marketing Spend       State     Profit\n",
       "0  165349.20       136897.80        471784.10    New York  192261.83\n",
       "1  162597.70       151377.59        443898.53  California  191792.06\n",
       "2  153441.51       101145.55        407934.54     Florida  191050.39\n",
       "3  144372.41       118671.85        383199.62    New York  182901.99\n",
       "4  142107.34        91391.77        366168.42     Florida  166187.94"
      ]
     },
     "execution_count": 17,
     "metadata": {},
     "output_type": "execute_result"
    }
   ],
   "source": [
    "companies = pd.read_csv('1000_Companies.csv')\n",
    "companies.head()"
   ]
  },
  {
   "cell_type": "markdown",
   "metadata": {},
   "source": [
    "### extracting independent and dependent variables"
   ]
  },
  {
   "cell_type": "code",
   "execution_count": 18,
   "metadata": {},
   "outputs": [
    {
     "data": {
      "text/plain": [
       "array([[165349.2, 136897.8, 471784.1, 'New York'],\n",
       "       [162597.7, 151377.59, 443898.53, 'California'],\n",
       "       [153441.51, 101145.55, 407934.54, 'Florida'],\n",
       "       ...,\n",
       "       [100275.47, 241926.31, 227142.82, 'California'],\n",
       "       [128456.23, 321652.14, 281692.32, 'California'],\n",
       "       [161181.72, 270939.86, 295442.17, 'New York']], dtype=object)"
      ]
     },
     "execution_count": 18,
     "metadata": {},
     "output_type": "execute_result"
    }
   ],
   "source": [
    "X = companies.iloc[:,:-1].values\n",
    "y = companies.iloc[:,4].values\n",
    "X"
   ]
  },
  {
   "cell_type": "markdown",
   "metadata": {},
   "source": [
    "### visualizing the data before processing"
   ]
  },
  {
   "cell_type": "code",
   "execution_count": 19,
   "metadata": {},
   "outputs": [
    {
     "data": {
      "text/plain": [
       "<matplotlib.axes._subplots.AxesSubplot at 0x18fc98c8940>"
      ]
     },
     "execution_count": 19,
     "metadata": {},
     "output_type": "execute_result"
    },
    {
     "data": {
      "image/png": "[encoded data removed]",
      "text/plain": [
       "<Figure size 432x288 with 2 Axes>"
      ]
     },
     "metadata": {
      "needs_background": "light"
     },
     "output_type": "display_data"
    }
   ],
   "source": [
    "sns.heatmap(companies.corr())"
   ]
  },
  {
   "cell_type": "markdown",
   "metadata": {},
   "source": [
    "\n",
    "### encoding categorical data"
   ]
  },
  {
   "cell_type": "code",
   "execution_count": 20,
   "metadata": {},
   "outputs": [
    {
     "name": "stderr",
     "output_type": "stream",
     "text": [
      "C:\\ProgramData\\Anaconda3\\lib\\site-packages\\sklearn\\preprocessing\\_encoders.py:415: FutureWarning: The handling of integer data will change in version 0.22. Currently, the categories are determined based on the range [0, max(values)], while in the future they will be determined based on the unique values.\n",
      "If you want the future behaviour and silence this warning, you can specify \"categories='auto'\".\n",
      "In case you used a LabelEncoder before this OneHotEncoder to convert the categories to integers, then you can now use the OneHotEncoder directly.\n",
      "  warnings.warn(msg, FutureWarning)\n",
      "C:\\ProgramData\\Anaconda3\\lib\\site-packages\\sklearn\\preprocessing\\_encoders.py:451: DeprecationWarning: The 'categorical_features' keyword is deprecated in version 0.20 and will be removed in 0.22. You can use the ColumnTransformer instead.\n",
      "  \"use the ColumnTransformer instead.\", DeprecationWarning)\n"
     ]
    }
   ],
   "source": [
    "from sklearn.preprocessing import LabelEncoder, OneHotEncoder\n",
    "labelencoder = LabelEncoder()\n",
    "X[:,3] = labelencoder.fit_transform(X[:,3])\n",
    "\n",
    "onehotencoder = OneHotEncoder(categorical_features = [3])\n",
    "X = onehotencoder.fit_transform(X).toarray()\n"
   ]
  },
  {
   "cell_type": "markdown",
   "metadata": {},
   "source": [
    "### avoiding dummy data trap"
   ]
  },
  {
   "cell_type": "code",
   "execution_count": 12,
   "metadata": {},
   "outputs": [
    {
     "data": {
      "text/plain": [
       "array([[471784.1, 'New York'],\n",
       "       [443898.53, 'California'],\n",
       "       [407934.54, 'Florida'],\n",
       "       ...,\n",
       "       [227142.82, 'California'],\n",
       "       [281692.32, 'California'],\n",
       "       [295442.17, 'New York']], dtype=object)"
      ]
     },
     "execution_count": 12,
     "metadata": {},
     "output_type": "execute_result"
    }
   ],
   "source": [
    "#X = X[:,1:]\n",
    "#X"
   ]
  },
  {
   "cell_type": "markdown",
   "metadata": {},
   "source": [
    "### splitting dataset into train and test"
   ]
  },
  {
   "cell_type": "code",
   "execution_count": 21,
   "metadata": {},
   "outputs": [],
   "source": [
    "from sklearn.model_selection import train_test_split\n",
    "X_train,X_test,y_train,y_test = train_test_split(X,y,test_size=0.25,random_state=0)\n"
   ]
  },
  {
   "cell_type": "markdown",
   "metadata": {},
   "source": [
    "### fitting model to training set"
   ]
  },
  {
   "cell_type": "code",
   "execution_count": 22,
   "metadata": {},
   "outputs": [
    {
     "data": {
      "text/plain": [
       "LinearRegression(copy_X=True, fit_intercept=True, n_jobs=None, normalize=False)"
      ]
     },
     "execution_count": 22,
     "metadata": {},
     "output_type": "execute_result"
    }
   ],
   "source": [
    "from sklearn.linear_model import LinearRegression\n",
    "lin_reg = LinearRegression()\n",
    "lin_reg.fit(X_train,y_train)"
   ]
  },
  {
   "cell_type": "markdown",
   "metadata": {},
   "source": [
    "### predicting the test dataset"
   ]
  },
  {
   "cell_type": "code",
   "execution_count": 24,
   "metadata": {},
   "outputs": [
    {
     "data": {
      "text/plain": [
       "array([ 89602.23052112,  88239.80201614,  94702.12002985, 175509.7444267 ,\n",
       "        83461.77749735, 110599.74053966, 131948.85577937,  91283.61641449,\n",
       "       164580.71663692,  53151.83628339,  66780.48203841, 150415.85279943,\n",
       "       126696.46745134,  59174.37574827, 177253.79545622,  75372.94806241,\n",
       "       118123.9832721 , 164324.87239863, 172648.99037   , 182038.49259395,\n",
       "       121264.52583037,  85484.93573297, 180817.12779825,  83961.3136763 ,\n",
       "       104805.01158595, 101035.8261546 ,  55003.82567287,  56953.15534907,\n",
       "        68725.09361289, 210505.51620949, 120652.49268841, 111518.5513944 ,\n",
       "       101523.1718271 , 137818.74835243,  63802.68839172, 108653.93623664,\n",
       "       185980.87518202, 171274.98401878, 174473.99007598, 117547.80200509,\n",
       "        96770.53433932, 165202.00538581, 107521.29431353,  50126.02756979,\n",
       "       116391.15260094,  58469.58267852, 158259.46233248,  78449.79206776,\n",
       "       159569.58862317, 131003.17642491, 184702.06381636, 174438.83622507,\n",
       "        93554.04471704,  78395.32707752, 180716.36250723,  84365.08094288,\n",
       "       142756.58697364, 170597.18020495,  84414.36283372, 105339.51490539,\n",
       "       141516.76846478,  52602.64426818, 141612.01526367, 139180.72882279,\n",
       "        98099.18834201, 113466.51858438, 126768.82540854, 152129.37233126,\n",
       "        58934.63562783, 174115.59169549, 124407.17613441, 168812.56945363,\n",
       "        91177.22325607, 156160.92591688,  84123.36465417,  77932.32437946,\n",
       "       120288.09240474,  93422.33851611, 138791.98555435, 143372.28313089,\n",
       "       170980.8915376 , 139853.46224879, 106400.99150949, 155399.20829408,\n",
       "       140033.85422825, 110201.04375124,  69501.05190718,  88194.69454458,\n",
       "       139904.04960041, 148475.93766735, 157905.76038406,  58370.12283589,\n",
       "        93749.01267036, 112526.79445988,  56628.19596302, 107445.31994123,\n",
       "       147204.84295653, 152137.94650262, 167789.1542013 , 118538.18756007,\n",
       "       120637.05927805, 138888.79912789, 157517.352529  , 121834.86452663,\n",
       "        87138.36231682, 104679.75522214,  95375.52417161, 178361.90777448,\n",
       "       181678.90137391, 109859.79353278, 165003.94312053, 167553.88782973,\n",
       "       157991.50158658, 174758.20302568, 169942.63908789,  52144.45063995,\n",
       "       176678.47170574, 104551.21742236,  82527.719953  , 138895.21042263,\n",
       "       144129.30432162, 161519.34467466, 169495.85313718, 120324.96111832,\n",
       "       158723.32244638, 110008.64798609, 169654.02637576,  60595.96567864,\n",
       "       158791.98956573, 157925.14552223, 174487.26068973, 156285.25076533,\n",
       "       103514.60573581,  85684.1907268 , 141372.79717462, 165900.27453546,\n",
       "       121055.47661801, 171909.81507796, 100396.12241561,  82002.90946494,\n",
       "       178382.15032849, 101592.28689071,  70568.00837067,  90294.49777792,\n",
       "        61315.67012841,  68974.07853217,  72688.83750534, 176654.46412401,\n",
       "        89603.87128427, 131181.03089882,  92569.66114527,  88205.43292859,\n",
       "       172580.0399423 ,  60728.86461122, 168850.22149386, 166199.17608027,\n",
       "       165262.8075816 , 102059.50263044, 181564.34344602,  73614.8429918 ,\n",
       "        91077.83741434, 135565.54240176,  64987.96782116,  71835.26407559,\n",
       "        60672.6107698 , 184110.44913899, 176115.07765176, 158896.07176983,\n",
       "       141361.98620781, 154603.00744579,  58619.96517926,  90517.01563888,\n",
       "       152878.75085565, 168232.88447277,  72544.34418172, 115941.86846091,\n",
       "        79994.84941732, 149824.64752395, 116829.69978333, 129970.06834121,\n",
       "       174364.24130206, 301982.85404822, 146036.26375519, 150641.76165233,\n",
       "        86009.59805299,  69882.52635403,  70011.99566917,  68862.27958287,\n",
       "       120686.34117921,  89722.60363144, 166660.3900175 , 125297.17025345,\n",
       "        67272.97217759, 138967.79362674, 118332.40855992, 165647.00248534,\n",
       "       168490.10826103, 146774.49592005, 141398.85491106, 109115.55947507,\n",
       "        82388.81913067, 156384.30121434, 136351.7896294 ,  60549.6653727 ,\n",
       "       143250.00853782, 176734.20352403,  87338.99685028, 136402.37697069,\n",
       "       169494.99571101,  95122.58752453, 137049.72337601, 126319.54126851,\n",
       "        32386.39052014,  70968.86805637, 166824.56515925, 138821.92095007,\n",
       "       127258.40796684, 137646.40843087,  82615.68798049, 130629.41862257,\n",
       "       169837.96068114, 108767.04062605, 123595.98982002, 117518.20202275,\n",
       "        60465.63893631, 126557.90194172, 179470.20679283,  53789.75117429,\n",
       "       123541.9564964 , 173042.11121534,  70051.84605282, 152020.07158162,\n",
       "       134560.13282798,  60249.57099351,  85628.90693279,  84892.79903248,\n",
       "        98557.38197643,  76308.38505605, 128185.79299294, 110431.68766894,\n",
       "        59824.294429  , 101753.48044242, 147675.63647864, 159002.91304288,\n",
       "       161424.58126616, 185456.13877281,  55836.80426663, 155812.50365681,\n",
       "        67328.70399589, 164016.20393325])"
      ]
     },
     "execution_count": 24,
     "metadata": {},
     "output_type": "execute_result"
    }
   ],
   "source": [
    "y_pred = lin_reg.predict(X_test)\n",
    "y_pred"
   ]
  },
  {
   "cell_type": "markdown",
   "metadata": {},
   "source": [
    "### finding coefficients and intercepts"
   ]
  },
  {
   "cell_type": "code",
   "execution_count": 14,
   "metadata": {},
   "outputs": [
    {
     "name": "stdout",
     "output_type": "stream",
     "text": [
      "[-7.92323210e+02 -4.64382238e+02  5.24699015e-01  9.03445439e-01\n",
      "  1.03284926e-01]\n"
     ]
    }
   ],
   "source": [
    "# coefficient \n",
    "print(lin_reg.coef_)"
   ]
  },
  {
   "cell_type": "code",
   "execution_count": 15,
   "metadata": {},
   "outputs": [
    {
     "name": "stdout",
     "output_type": "stream",
     "text": [
      "-57418.75678547408\n"
     ]
    }
   ],
   "source": [
    "# intercepts\n",
    "print(lin_reg.intercept_)"
   ]
  },
  {
   "cell_type": "markdown",
   "metadata": {},
   "source": [
    "### evaluating the model"
   ]
  },
  {
   "cell_type": "code",
   "execution_count": 16,
   "metadata": {},
   "outputs": [
    {
     "data": {
      "text/plain": [
       "0.9209536193310021"
      ]
     },
     "execution_count": 16,
     "metadata": {},
     "output_type": "execute_result"
    }
   ],
   "source": [
    "# calculating the  R squared error\n",
    "from sklearn.metrics import r2_score\n",
    "r2_score(y_test,y_pred)"
   ]
  },
  {
   "cell_type": "code",
   "execution_count": null,
   "metadata": {},
   "outputs": [],
   "source": []
  }
 ],
 "metadata": {
  "kernelspec": {
   "display_name": "Python 3",
   "language": "python",
   "name": "python3"
  },
  "language_info": {
   "codemirror_mode": {
    "name": "ipython",
    "version": 3
   },
   "file_extension": ".py",
   "mimetype": "text/x-python",
   "name": "python",
   "nbconvert_exporter": "python",
   "pygments_lexer": "ipython3",
   "version": "3.7.3"
  }
 },
 "nbformat": 4,
 "nbformat_minor": 2
}
