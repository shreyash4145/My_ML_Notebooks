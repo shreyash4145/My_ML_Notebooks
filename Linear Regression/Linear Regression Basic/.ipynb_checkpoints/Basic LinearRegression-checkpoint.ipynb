{
 "cells": [
  {
   "cell_type": "code",
   "execution_count": 1,
   "metadata": {
    "collapsed": true
   },
   "outputs": [],
   "source": [
    "import numpy as np\n",
    "from sklearn import linear_model, datasets, tree\n",
    "import matplotlib.pyplot as plt\n",
    "%matplotlib inline"
   ]
  },
  {
   "cell_type": "code",
   "execution_count": 2,
   "metadata": {},
   "outputs": [
    {
     "data": {
      "image/png": "[encoded data removed]",
      "text/plain": [
       "<matplotlib.figure.Figure at 0x4d3b898>"
      ]
     },
     "metadata": {},
     "output_type": "display_data"
    }
   ],
   "source": [
    "number_of_samples = 100\n",
    "x = np.linspace(-np.pi, np.pi, number_of_samples)\n",
    "y = 0.5*x+np.sin(x)+np.random.random(x.shape)\n",
    "plt.scatter(x,y,color='black') #Plot y-vs-x in dots\n",
    "plt.xlabel('x-input feature')\n",
    "plt.ylabel('y-target values')\n",
    "plt.title('Fig 1: Data for linear regression')\n",
    "plt.show()"
   ]
  },
  {
   "cell_type": "code",
   "execution_count": 3,
   "metadata": {
    "collapsed": true
   },
   "outputs": [],
   "source": [
    "random_indices = np.random.permutation(number_of_samples)\n",
    "#Training set\n",
    "x_train = x[random_indices[:70]]\n",
    "y_train = y[random_indices[:70]]\n",
    "#Validation set\n",
    "x_val = x[random_indices[70:85]]\n",
    "y_val = y[random_indices[70:85]]\n",
    "#Test set\n",
    "x_test = x[random_indices[85:]]\n",
    "y_test = y[random_indices[85:]]\n"
   ]
  },
  {
   "cell_type": "code",
   "execution_count": 4,
   "metadata": {},
   "outputs": [
    {
     "data": {
      "image/png": "[encoded data removed]",
      "text/plain": [
       "<matplotlib.figure.Figure at 0x974b7b8>"
      ]
     },
     "metadata": {},
     "output_type": "display_data"
    },
    {
     "data": {
      "text/plain": [
       "array([[-2.02611555],\n",
       "       [-1.97628893],\n",
       "       [-1.92646231],\n",
       "       [-1.87663568],\n",
       "       [-1.82680906],\n",
       "       [-1.77698244],\n",
       "       [-1.72715582],\n",
       "       [-1.6773292 ],\n",
       "       [-1.62750257],\n",
       "       [-1.57767595],\n",
       "       [-1.52784933],\n",
       "       [-1.47802271],\n",
       "       [-1.42819609],\n",
       "       [-1.37836947],\n",
       "       [-1.32854284],\n",
       "       [-1.27871622],\n",
       "       [-1.2288896 ],\n",
       "       [-1.17906298],\n",
       "       [-1.12923636],\n",
       "       [-1.07940973],\n",
       "       [-1.02958311],\n",
       "       [-0.97975649],\n",
       "       [-0.92992987],\n",
       "       [-0.88010325],\n",
       "       [-0.83027663],\n",
       "       [-0.78045   ],\n",
       "       [-0.73062338],\n",
       "       [-0.68079676],\n",
       "       [-0.63097014],\n",
       "       [-0.58114352],\n",
       "       [-0.53131689],\n",
       "       [-0.48149027],\n",
       "       [-0.43166365],\n",
       "       [-0.38183703],\n",
       "       [-0.33201041],\n",
       "       [-0.28218379],\n",
       "       [-0.23235716],\n",
       "       [-0.18253054],\n",
       "       [-0.13270392],\n",
       "       [-0.0828773 ],\n",
       "       [-0.03305068],\n",
       "       [ 0.01677595],\n",
       "       [ 0.06660257],\n",
       "       [ 0.11642919],\n",
       "       [ 0.16625581],\n",
       "       [ 0.21608243],\n",
       "       [ 0.26590905],\n",
       "       [ 0.31573568],\n",
       "       [ 0.3655623 ],\n",
       "       [ 0.41538892],\n",
       "       [ 0.46521554],\n",
       "       [ 0.51504216],\n",
       "       [ 0.56486879],\n",
       "       [ 0.61469541],\n",
       "       [ 0.66452203],\n",
       "       [ 0.71434865],\n",
       "       [ 0.76417527],\n",
       "       [ 0.81400189],\n",
       "       [ 0.86382852],\n",
       "       [ 0.91365514],\n",
       "       [ 0.96348176],\n",
       "       [ 1.01330838],\n",
       "       [ 1.063135  ],\n",
       "       [ 1.11296163],\n",
       "       [ 1.16278825],\n",
       "       [ 1.21261487],\n",
       "       [ 1.26244149],\n",
       "       [ 1.31226811],\n",
       "       [ 1.36209474],\n",
       "       [ 1.41192136],\n",
       "       [ 1.46174798],\n",
       "       [ 1.5115746 ],\n",
       "       [ 1.56140122],\n",
       "       [ 1.61122784],\n",
       "       [ 1.66105447],\n",
       "       [ 1.71088109],\n",
       "       [ 1.76070771],\n",
       "       [ 1.81053433],\n",
       "       [ 1.86036095],\n",
       "       [ 1.91018758],\n",
       "       [ 1.9600142 ],\n",
       "       [ 2.00984082],\n",
       "       [ 2.05966744],\n",
       "       [ 2.10949406],\n",
       "       [ 2.15932068],\n",
       "       [ 2.20914731],\n",
       "       [ 2.25897393],\n",
       "       [ 2.30880055],\n",
       "       [ 2.35862717],\n",
       "       [ 2.40845379],\n",
       "       [ 2.45828042],\n",
       "       [ 2.50810704],\n",
       "       [ 2.55793366],\n",
       "       [ 2.60776028],\n",
       "       [ 2.6575869 ],\n",
       "       [ 2.70741352],\n",
       "       [ 2.75724015],\n",
       "       [ 2.80706677],\n",
       "       [ 2.85689339],\n",
       "       [ 2.90672001]])"
      ]
     },
     "execution_count": 4,
     "metadata": {},
     "output_type": "execute_result"
    }
   ],
   "source": [
    "model = linear_model.LinearRegression() #Create a least squared error linear regression object\n",
    "\n",
    "#sklearn takes the inputs as matrices. Hence  reshpae the arrays into column matrices\n",
    "x_train_for_line_fitting = np.matrix(x_train.reshape(len(x_train),1))\n",
    "y_train_for_line_fitting = np.matrix(y_train.reshape(len(y_train),1))\n",
    "\n",
    "#Fit the line to the training data\n",
    "model.fit(x_train_for_line_fitting, y_train_for_line_fitting)\n",
    "\n",
    "#Plot the line\n",
    "plt.scatter(x_train, y_train, color='black')\n",
    "plt.plot(x.reshape((len(x),1)),model.predict(x.reshape((len(x),1))),color='blue')\n",
    "plt.xlabel('x-input feature')\n",
    "plt.ylabel('y-target values')\n",
    "plt.title('Fig 2: Line fit to training data')\n",
    "plt.show()\n",
    "b=model.predict(x.reshape((len(x),1)))\n",
    "b"
   ]
  },
  {
   "cell_type": "code",
   "execution_count": 5,
   "metadata": {},
   "outputs": [
    {
     "name": "stdout",
     "output_type": "stream",
     "text": [
      "Validation MSE:  2.23272868399 \n",
      "Test MSE:  4.6130653776\n"
     ]
    }
   ],
   "source": [
    "mean_val_error = np.mean( (y_val - model.predict(x_val.reshape(len(x_val),1)))**2 )\n",
    "mean_test_error = np.mean( (y_test - model.predict(x_test.reshape(len(x_test),1)))**2 )\n",
    "\n",
    "print (\"Validation MSE: \", mean_val_error, \"\\nTest MSE: \", mean_test_error)"
   ]
  },
  {
   "cell_type": "code",
   "execution_count": null,
   "metadata": {
    "collapsed": true
   },
   "outputs": [],
   "source": []
  }
 ],
 "metadata": {
  "kernelspec": {
   "display_name": "Python 3",
   "language": "python",
   "name": "python3"
  },
  "language_info": {
   "codemirror_mode": {
    "name": "ipython",
    "version": 3
   },
   "file_extension": ".py",
   "mimetype": "text/x-python",
   "name": "python",
   "nbconvert_exporter": "python",
   "pygments_lexer": "ipython3",
   "version": "3.6.3"
  }
 },
 "nbformat": 4,
 "nbformat_minor": 2
}
